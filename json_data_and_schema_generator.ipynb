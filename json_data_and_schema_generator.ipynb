{
 "cells": [
  {
   "attachments": {},
   "cell_type": "markdown",
   "metadata": {},
   "source": [
    "# Install required python packages"
   ]
  },
  {
   "cell_type": "code",
   "execution_count": null,
   "metadata": {},
   "outputs": [],
   "source": [
    "! pip install -r requirements.txt"
   ]
  },
  {
   "cell_type": "code",
   "execution_count": 2,
   "metadata": {},
   "outputs": [],
   "source": [
    "import os\n",
    "import json\n",
    "\n",
    "import jsonlines\n",
    "from mimesis import Generic"
   ]
  },
  {
   "attachments": {},
   "cell_type": "markdown",
   "metadata": {},
   "source": [
    "# Create dummy data"
   ]
  },
  {
   "cell_type": "code",
   "execution_count": 3,
   "metadata": {},
   "outputs": [],
   "source": [
    "def generate_person_initial_schema(seed):\n",
    "    \"\"\"\n",
    "    Generate a person with initial schema.\n",
    "\n",
    "    Args:\n",
    "        seed (int): Seed value for randomization.\n",
    "\n",
    "    Returns:\n",
    "        dict: Dictionary representing a person with initial schema.\n",
    "    \"\"\"\n",
    "    generic = Generic('en', seed=seed)  # Set the desired seed value\n",
    "\n",
    "    return {\n",
    "        \"id\": generic.person.identifier(mask='######'),\n",
    "        \"first_name\": generic.person.first_name(),\n",
    "        \"age\": generic.random.randint(18, 60),\n",
    "        \"address\": {\n",
    "            \"street_number\": generic.address.street_number(),\n",
    "            \"street_name\": generic.address.street_name(),\n",
    "            \"city\": generic.address.city(),\n",
    "            \"state\": generic.address.state(),\n",
    "            \"zipcode\": generic.address.zip_code(),\n",
    "        },\n",
    "        \"favourite_colurs\": [generic.text.color() for _ in range(generic.random.randint(1, 5))],\n",
    "        \"friends\": [\n",
    "            {\n",
    "                \"name\": generic.person.name(),\n",
    "                \"age\": generic.random.randint(18, 60),\n",
    "            }\n",
    "            for _ in range(generic.random.randint(1, 3))\n",
    "        ],\n",
    "    }\n",
    "\n",
    "def generate_person_evolved_schema(seed):\n",
    "    \"\"\"\n",
    "    Generate a person with evolved schema.\n",
    "\n",
    "    Args:\n",
    "        seed (int): Seed value for randomization.\n",
    "\n",
    "    Returns:\n",
    "        dict: Dictionary representing a person with evolved schema.\n",
    "    \"\"\"\n",
    "    generic = Generic('en', seed=seed)  # Set the desired seed value\n",
    "\n",
    "    return {\n",
    "        \"id\": generic.person.identifier(mask='######'),\n",
    "        \"first_name\": generic.person.first_name(),\n",
    "        \"last_name\": generic.person.last_name(),\n",
    "        \"age\": generic.random.randint(18, 60),\n",
    "        \"address\": {\n",
    "            \"street_number\": generic.address.street_number(),\n",
    "            \"street_name\": generic.address.street_name(),\n",
    "            \"city\": generic.address.city(),\n",
    "            \"state\": generic.address.state(),\n",
    "            \"zipcode\": generic.address.zip_code(),\n",
    "        },\n",
    "        \"favourite_colurs\": [generic.text.color() for _ in range(generic.random.randint(1, 5))],\n",
    "        \"friends\": [\n",
    "            {\n",
    "                \"name\": generic.person.name(),\n",
    "                \"age\": generic.random.randint(18, 60),\n",
    "            }\n",
    "            for _ in range(generic.random.randint(1, 3))\n",
    "        ],\n",
    "    }\n",
    "\n",
    "def generate_data_initial_schema(filename, num_records, seed):\n",
    "    \"\"\"\n",
    "    Generate data with initial schema and write it to a JSON lines file.\n",
    "\n",
    "    Args:\n",
    "        filename (str): Name of the output JSON lines file.\n",
    "        num_records (int): Number of records to generate.\n",
    "        seed (int): Seed value for randomization.\n",
    "\n",
    "    Returns:\n",
    "        list: List of generated data with initial schema.\n",
    "    \"\"\"\n",
    "    data = [generate_person_initial_schema(seed+i) for i in range(num_records)]\n",
    "\n",
    "    with jsonlines.open(filename, mode='w') as writer:\n",
    "        writer.write_all(data)\n",
    "\n",
    "    return\n",
    "\n",
    "def generate_data_evolved_schema(filename, num_records, seed):\n",
    "    \"\"\"\n",
    "    Generate data with evolved schema and write it to a JSON lines file.\n",
    "\n",
    "    Args:\n",
    "        filename (str): Name of the output JSON lines file.\n",
    "        num_records (int): Number of records to generate.\n",
    "        seed (int): Seed value for randomization.\n",
    "\n",
    "    Returns:\n",
    "        list: List of generated data with evolved schema.\n",
    "    \"\"\"\n",
    "    data = [generate_person_evolved_schema(seed+i) for i in range(num_records)]\n",
    "\n",
    "    with jsonlines.open(filename, mode='w') as writer:\n",
    "        writer.write_all(data)\n",
    "\n",
    "    return"
   ]
  },
  {
   "cell_type": "code",
   "execution_count": 4,
   "metadata": {},
   "outputs": [],
   "source": [
    "generate_data_initial_schema(filename=\"persons-1.json\", num_records=10, seed=123)\n",
    "generate_data_evolved_schema(filename=\"persons-2.json\", num_records=20, seed=1234)\n",
    "generate_data_evolved_schema(filename=\"persons-3.json\", num_records=10, seed=123)"
   ]
  },
  {
   "attachments": {},
   "cell_type": "markdown",
   "metadata": {},
   "source": [
    "# Create schema for dummy data"
   ]
  },
  {
   "cell_type": "code",
   "execution_count": 5,
   "metadata": {},
   "outputs": [],
   "source": [
    "generate_data_initial_schema(filename=\"sample-persons.json\", num_records=1, seed=123)\n",
    "\n",
    "! datamodel-codegen --input \"sample-persons.json\" --input-file-type json --output \"model1.py\"\n",
    "\n",
    "generate_data_evolved_schema(filename=\"sample-persons.json\", num_records=1, seed=123)\n",
    "\n",
    "! datamodel-codegen --input \"sample-persons.json\" --input-file-type json --output \"model2.py\""
   ]
  },
  {
   "cell_type": "code",
   "execution_count": 6,
   "metadata": {},
   "outputs": [
    {
     "name": "stdout",
     "output_type": "stream",
     "text": [
      "{'title': 'Model', 'type': 'object', 'properties': {'id': {'title': 'Id', 'type': 'string'}, 'first_name': {'title': 'First Name', 'type': 'string'}, 'age': {'title': 'Age', 'type': 'integer'}, 'address': {'$ref': '#/definitions/Address'}, 'favourite_colurs': {'title': 'Favourite Colurs', 'type': 'array', 'items': {'type': 'string'}}, 'friends': {'title': 'Friends', 'type': 'array', 'items': {'$ref': '#/definitions/Friend'}}}, 'required': ['id', 'first_name', 'age', 'address', 'favourite_colurs', 'friends'], 'definitions': {'Address': {'title': 'Address', 'type': 'object', 'properties': {'street_number': {'title': 'Street Number', 'type': 'string'}, 'street_name': {'title': 'Street Name', 'type': 'string'}, 'city': {'title': 'City', 'type': 'string'}, 'state': {'title': 'State', 'type': 'string'}, 'zipcode': {'title': 'Zipcode', 'type': 'string'}}, 'required': ['street_number', 'street_name', 'city', 'state', 'zipcode']}, 'Friend': {'title': 'Friend', 'type': 'object', 'properties': {'name': {'title': 'Name', 'type': 'string'}, 'age': {'title': 'Age', 'type': 'integer'}}, 'required': ['name', 'age']}}}\n"
     ]
    }
   ],
   "source": [
    "import model1\n",
    "\n",
    "schema = json.loads(model1.Model.schema_json())\n",
    "print(schema)\n",
    "\n",
    "with open(\"persons-1.schema.json\", \"w\") as f:\n",
    "    json.dump(schema, f)"
   ]
  },
  {
   "cell_type": "code",
   "execution_count": 7,
   "metadata": {},
   "outputs": [
    {
     "name": "stdout",
     "output_type": "stream",
     "text": [
      "{'title': 'Model', 'type': 'object', 'properties': {'id': {'title': 'Id', 'type': 'string'}, 'first_name': {'title': 'First Name', 'type': 'string'}, 'last_name': {'title': 'Last Name', 'type': 'string'}, 'age': {'title': 'Age', 'type': 'integer'}, 'address': {'$ref': '#/definitions/Address'}, 'favourite_colurs': {'title': 'Favourite Colurs', 'type': 'array', 'items': {'type': 'string'}}, 'friends': {'title': 'Friends', 'type': 'array', 'items': {'$ref': '#/definitions/Friend'}}}, 'required': ['id', 'first_name', 'last_name', 'age', 'address', 'favourite_colurs', 'friends'], 'definitions': {'Address': {'title': 'Address', 'type': 'object', 'properties': {'street_number': {'title': 'Street Number', 'type': 'string'}, 'street_name': {'title': 'Street Name', 'type': 'string'}, 'city': {'title': 'City', 'type': 'string'}, 'state': {'title': 'State', 'type': 'string'}, 'zipcode': {'title': 'Zipcode', 'type': 'string'}}, 'required': ['street_number', 'street_name', 'city', 'state', 'zipcode']}, 'Friend': {'title': 'Friend', 'type': 'object', 'properties': {'name': {'title': 'Name', 'type': 'string'}, 'age': {'title': 'Age', 'type': 'integer'}}, 'required': ['name', 'age']}}}\n"
     ]
    }
   ],
   "source": [
    "import model2\n",
    "\n",
    "schema = json.loads(model2.Model.schema_json())\n",
    "print(schema)\n",
    "\n",
    "with open(\"persons-2.schema.json\", \"w\") as f:\n",
    "    json.dump(schema, f)"
   ]
  },
  {
   "cell_type": "code",
   "execution_count": 8,
   "metadata": {},
   "outputs": [],
   "source": [
    "! rm -f \"sample-persons.json\"\n",
    "! rm -f \"model1.py\"\n",
    "! rm -f \"model2.py\""
   ]
  }
 ],
 "metadata": {
  "kernelspec": {
   "display_name": "aws",
   "language": "python",
   "name": "python3"
  },
  "language_info": {
   "codemirror_mode": {
    "name": "ipython",
    "version": 3
   },
   "file_extension": ".py",
   "mimetype": "text/x-python",
   "name": "python",
   "nbconvert_exporter": "python",
   "pygments_lexer": "ipython3",
   "version": "3.9.7"
  },
  "orig_nbformat": 4
 },
 "nbformat": 4,
 "nbformat_minor": 2
}
